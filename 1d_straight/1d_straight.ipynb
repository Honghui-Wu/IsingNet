{
 "cells": [
  {
   "cell_type": "code",
   "execution_count": 6,
   "metadata": {},
   "outputs": [
    {
     "name": "stdout",
     "output_type": "stream",
     "text": [
      "[ 0.80454089 -0.25717469 -0.55207389 -0.29244286 -0.24720146 -0.38260707\n",
      "  0.96343091  0.33503451 -0.74873118]\n",
      "[-1, -1, 1, -1, 1, -1, 1, 1, 1, -1]\n",
      "-4.583237447027309\n",
      "-4.583237447027309\n"
     ]
    }
   ],
   "source": [
    "'''Generate Sample'''\n",
    "import numpy as np\n",
    "import random\n",
    "\n",
    "# Step 1: Define parameters for the 1D Ising Model\n",
    "num_nodes = 10\n",
    "num_edges = num_nodes - 1\n",
    "\n",
    "# Randomly assign weights to the edges (between -1 and 1)\n",
    "edge_weights = np.random.uniform(-1, 1, num_edges)\n",
    "\n",
    "# Step 2: Solve Ising model\n",
    "spins = [random.choice([-1,1]) for _ in range(10)] # intialize spin configuration\n",
    "\n",
    "def spin_config_solver():\n",
    "    for i in range(num_edges):\n",
    "        if edge_weights[i] >= 0:\n",
    "            spins[i+1] = spins[i]\n",
    "        else:\n",
    "            spins[i+1] = - spins[i]\n",
    "\n",
    "spin_config_solver()\n",
    "\n",
    "def hamiltonian_solver():\n",
    "    hamiltonian = 0\n",
    "    for i in range(num_edges):\n",
    "        hamiltonian += - edge_weights[i] * spins[i] * spins[i+1]\n",
    "    return hamiltonian # should equal to the opposite value of the absolute sum of \"edge_weights\" list\n",
    "\n",
    "hamiltonian = hamiltonian_solver()\n",
    "\n",
    "\n"
   ]
  },
  {
   "cell_type": "markdown",
   "metadata": {},
   "source": [
    "Generate 100 samples of above, store edge_weights, spins, and hamiltonian into a pandas table."
   ]
  },
  {
   "cell_type": "code",
   "execution_count": null,
   "metadata": {},
   "outputs": [],
   "source": [
    "print(edge_weights)\n",
    "print(spins)\n",
    "print(hamiltonian)\n",
    "print(-sum(abs(x) for x in edge_weights))\n"
   ]
  }
 ],
 "metadata": {
  "kernelspec": {
   "display_name": "base",
   "language": "python",
   "name": "python3"
  },
  "language_info": {
   "codemirror_mode": {
    "name": "ipython",
    "version": 3
   },
   "file_extension": ".py",
   "mimetype": "text/x-python",
   "name": "python",
   "nbconvert_exporter": "python",
   "pygments_lexer": "ipython3",
   "version": "3.11.5"
  }
 },
 "nbformat": 4,
 "nbformat_minor": 2
}
