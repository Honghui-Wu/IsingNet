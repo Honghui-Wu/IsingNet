{
 "cells": [
  {
   "cell_type": "code",
   "execution_count": 1,
   "metadata": {},
   "outputs": [],
   "source": [
    "'''Generate Samples'''\n",
    "import pandas as pd\n",
    "from gensamples import StraightIsingSamplesGenerator\n",
    "\n",
    "# create an object\n",
    "num_nodes = 2\n",
    "num_edges = num_nodes - 1\n",
    "num_samples = 10\n",
    "\n",
    "straight_ising_generator = StraightIsingSamplesGenerator(num_nodes, num_edges)\n",
    "\n",
    "# get samples\n",
    "samples = straight_ising_generator.sample_generator(num_samples)\n",
    "\n",
    "# Convert samples to a pandas DataFrame\n",
    "samples_df = pd.DataFrame([{**{\n",
    "    f\"edge_{i}-{i+1}\": weights[i] for i in range(len(weights))\n",
    "}, **{\n",
    "    f\"spin_{i}\": spins[i] for i in range(len(spins))\n",
    "}, \"hamiltonian\": hamiltonian} for sample in samples for weights, spins, hamiltonian in [(sample[\"edge_weights\"], sample[\"spins\"], sample[\"hamiltonian\"])]])\n",
    "\n",
    "# # Save the DataFrame to a CSV file\n",
    "# samples_df.to_csv(\"1d_straight_ising_model_samples.csv\", index=False)\n"
   ]
  },
  {
   "cell_type": "code",
   "execution_count": 2,
   "metadata": {},
   "outputs": [
    {
     "data": {
      "text/html": [
       "<div>\n",
       "<style scoped>\n",
       "    .dataframe tbody tr th:only-of-type {\n",
       "        vertical-align: middle;\n",
       "    }\n",
       "\n",
       "    .dataframe tbody tr th {\n",
       "        vertical-align: top;\n",
       "    }\n",
       "\n",
       "    .dataframe thead th {\n",
       "        text-align: right;\n",
       "    }\n",
       "</style>\n",
       "<table border=\"1\" class=\"dataframe\">\n",
       "  <thead>\n",
       "    <tr style=\"text-align: right;\">\n",
       "      <th></th>\n",
       "      <th>edge_0-1</th>\n",
       "      <th>spin_0</th>\n",
       "      <th>spin_1</th>\n",
       "      <th>hamiltonian</th>\n",
       "    </tr>\n",
       "  </thead>\n",
       "  <tbody>\n",
       "    <tr>\n",
       "      <th>0</th>\n",
       "      <td>-0.493740</td>\n",
       "      <td>-1</td>\n",
       "      <td>1</td>\n",
       "      <td>-0.493740</td>\n",
       "    </tr>\n",
       "    <tr>\n",
       "      <th>1</th>\n",
       "      <td>-0.439572</td>\n",
       "      <td>1</td>\n",
       "      <td>-1</td>\n",
       "      <td>-0.439572</td>\n",
       "    </tr>\n",
       "    <tr>\n",
       "      <th>2</th>\n",
       "      <td>0.448356</td>\n",
       "      <td>-1</td>\n",
       "      <td>-1</td>\n",
       "      <td>-0.448356</td>\n",
       "    </tr>\n",
       "    <tr>\n",
       "      <th>3</th>\n",
       "      <td>0.665288</td>\n",
       "      <td>-1</td>\n",
       "      <td>-1</td>\n",
       "      <td>-0.665288</td>\n",
       "    </tr>\n",
       "    <tr>\n",
       "      <th>4</th>\n",
       "      <td>0.239434</td>\n",
       "      <td>1</td>\n",
       "      <td>1</td>\n",
       "      <td>-0.239434</td>\n",
       "    </tr>\n",
       "  </tbody>\n",
       "</table>\n",
       "</div>"
      ],
      "text/plain": [
       "   edge_0-1  spin_0  spin_1  hamiltonian\n",
       "0 -0.493740      -1       1    -0.493740\n",
       "1 -0.439572       1      -1    -0.439572\n",
       "2  0.448356      -1      -1    -0.448356\n",
       "3  0.665288      -1      -1    -0.665288\n",
       "4  0.239434       1       1    -0.239434"
      ]
     },
     "execution_count": 2,
     "metadata": {},
     "output_type": "execute_result"
    }
   ],
   "source": [
    "samples_df.head()\n"
   ]
  },
  {
   "cell_type": "code",
   "execution_count": 3,
   "metadata": {},
   "outputs": [
    {
     "data": {
      "image/png": "[encoded data removed]",
      "text/plain": [
       "<Figure size 640x480 with 1 Axes>"
      ]
     },
     "metadata": {},
     "output_type": "display_data"
    }
   ],
   "source": [
    "import numpy as np\n",
    "import linear_regression\n",
    "from linear_regression import LinearRegressor\n",
    "\n",
    "\n",
    "data = samples_df\n",
    "X = data.iloc[:,0:num_edges]\n",
    "y = data['hamiltonian']\n",
    "\n",
    "X_feat = linear_regression.featurization(X)\n",
    "\n",
    "linear_regressor = LinearRegressor(X_feat,y)\n",
    "\n",
    "lr=0.01\n",
    "num_iters=500\n",
    "\n",
    "theta, J_hist = linear_regressor.gradient_descent(num_iters, lr)\n",
    "\n",
    "\n",
    "import matplotlib.pyplot as plt\n",
    "# Plot cost function history\n",
    "plt.plot(range(num_iters), J_hist)\n",
    "plt.xlabel(\"Number of iterations\")\n",
    "plt.ylabel(\"Cost (J)\")\n",
    "plt.title(\"Cost function history\")\n",
    "plt.show()\n",
    "\n"
   ]
  },
  {
   "cell_type": "code",
   "execution_count": 4,
   "metadata": {},
   "outputs": [
    {
     "ename": "ModuleNotFoundError",
     "evalue": "No module named 'linear_regressor_handcrafted'",
     "output_type": "error",
     "traceback": [
      "\u001b[1;31m---------------------------------------------------------------------------\u001b[0m",
      "\u001b[1;31mModuleNotFoundError\u001b[0m                       Traceback (most recent call last)",
      "Cell \u001b[1;32mIn[4], line 1\u001b[0m\n\u001b[1;32m----> 1\u001b[0m \u001b[38;5;28;01mfrom\u001b[39;00m \u001b[38;5;21;01mlinear_regressor_handcrafted\u001b[39;00m \u001b[38;5;28;01mimport\u001b[39;00m LinearRegressor, featurization\n\u001b[0;32m      3\u001b[0m data \u001b[38;5;241m=\u001b[39m samples_df\n\u001b[0;32m      4\u001b[0m X \u001b[38;5;241m=\u001b[39m data\u001b[38;5;241m.\u001b[39miloc[:, \u001b[38;5;241m0\u001b[39m:num_edges]\n",
      "\u001b[1;31mModuleNotFoundError\u001b[0m: No module named 'linear_regressor_handcrafted'"
     ]
    }
   ],
   "source": [
    "from linear_regressor_handcrafted import LinearRegressor, featurization\n",
    "\n",
    "data = samples_df\n",
    "X = data.iloc[:, 0:num_edges]\n",
    "y = data['hamiltonian']\n",
    "\n",
    "X_feat = featurization(X)  # Direct use of the function\n",
    "model = LinearRegressor(X_feat, y)\n"
   ]
  }
 ],
 "metadata": {
  "kernelspec": {
   "display_name": "base",
   "language": "python",
   "name": "python3"
  },
  "language_info": {
   "codemirror_mode": {
    "name": "ipython",
    "version": 3
   },
   "file_extension": ".py",
   "mimetype": "text/x-python",
   "name": "python",
   "nbconvert_exporter": "python",
   "pygments_lexer": "ipython3",
   "version": "3.11.5"
  }
 },
 "nbformat": 4,
 "nbformat_minor": 2
}
