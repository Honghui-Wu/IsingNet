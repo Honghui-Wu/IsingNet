{
 "cells": [
  {
   "cell_type": "code",
   "execution_count": null,
   "metadata": {},
   "outputs": [],
   "source": [
    "'''Generate Samples'''\n",
    "import pandas as pd\n",
    "from gensamples import StraightIsingSamplesGenerator\n",
    "\n",
    "# create an object\n",
    "num_nodes = 2\n",
    "num_edges = num_nodes - 1\n",
    "num_samples = 10\n",
    "\n",
    "straight_ising_generator = StraightIsingSamplesGenerator(num_nodes, num_edges)\n",
    "\n",
    "# get samples\n",
    "samples = straight_ising_generator.sample_generator(num_samples)\n",
    "\n",
    "# Convert samples to a pandas DataFrame\n",
    "samples_df = pd.DataFrame([{**{\n",
    "    f\"edge_{i}-{i+1}\": weights[i] for i in range(len(weights))\n",
    "}, **{\n",
    "    f\"spin_{i}\": spins[i] for i in range(len(spins))\n",
    "}, \"hamiltonian\": hamiltonian} for sample in samples for weights, spins, hamiltonian in [(sample[\"edge_weights\"], sample[\"spins\"], sample[\"hamiltonian\"])]])\n",
    "\n",
    "# Save the DataFrame to a CSV file\n",
    "samples_df.to_csv(\"./1d_straight/1d_straight_ising_model_samples.csv\", index=False)\n"
   ]
  },
  {
   "cell_type": "code",
   "execution_count": null,
   "metadata": {},
   "outputs": [],
   "source": []
  }
 ],
 "metadata": {
  "kernelspec": {
   "display_name": "base",
   "language": "python",
   "name": "python3"
  },
  "language_info": {
   "name": "python",
   "version": "3.11.5"
  }
 },
 "nbformat": 4,
 "nbformat_minor": 2
}
